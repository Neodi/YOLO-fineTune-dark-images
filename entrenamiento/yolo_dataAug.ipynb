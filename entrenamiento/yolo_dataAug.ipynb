{
 "cells": [
  {
   "cell_type": "code",
   "execution_count": null,
   "metadata": {},
   "outputs": [],
   "source": [
    "!nvidia-smi"
   ]
  },
  {
   "cell_type": "code",
   "execution_count": 1,
   "metadata": {},
   "outputs": [],
   "source": [
    "ruta_dataset = '../data/'"
   ]
  },
  {
   "cell_type": "code",
   "execution_count": null,
   "metadata": {},
   "outputs": [],
   "source": [
    "import os\n",
    "# Numero de fotos a procesar\n",
    "print('Numero de fotos train: ', len(os.listdir(ruta_dataset+'images/train')))\n",
    "print('Numero de fotos val: ', len(os.listdir(ruta_dataset+'images/val')))\n",
    "print('Numero de fotos test: ', len(os.listdir(ruta_dataset+'images/test')))\n"
   ]
  },
  {
   "cell_type": "code",
   "execution_count": 4,
   "metadata": {},
   "outputs": [],
   "source": [
    "# !pip install ultralytics"
   ]
  },
  {
   "cell_type": "code",
   "execution_count": null,
   "metadata": {},
   "outputs": [],
   "source": [
    "import torch\n",
    "print(torch.__version__)\n",
    "print(torch.cuda.is_available())\n",
    "print(torch.version.cuda)"
   ]
  },
  {
   "cell_type": "code",
   "execution_count": 3,
   "metadata": {},
   "outputs": [],
   "source": [
    "import os\n",
    "os.environ['CUDA_LAUNCH_BLOCKING'] = '1'\n",
    "\n",
    "from ultralytics import YOLO"
   ]
  },
  {
   "cell_type": "markdown",
   "metadata": {},
   "source": [
    "- Epoch: Indica la época actual del entrenamiento.\n",
    "- GPU_mem: Muestra la cantidad de memoria GPU utilizada.\n",
    "- box_loss: Pérdida asociada a la predicción de las cajas delimitadoras (bounding boxes).\n",
    "- cls_loss: Pérdida asociada a la clasificación de los objetos dentro de las cajas delimitadoras.\n",
    "- dfl_loss: Pérdida asociada a la regresión de las coordenadas de las cajas delimitadoras.\n",
    "- Instances: Número de instancias de objetos detectados en las imágenes procesadas durante esa época.\n",
    "- Size: Tamaño de las imágenes utilizadas durante esa época (en píxeles)."
   ]
  },
  {
   "cell_type": "code",
   "execution_count": 7,
   "metadata": {},
   "outputs": [],
   "source": [
    "# Load model\n",
    "model_n = YOLO('yolov8n.pt')"
   ]
  },
  {
   "cell_type": "markdown",
   "metadata": {},
   "source": [
    "Entrenamiento:  \n",
    "Train para ajustar sus pesos y parámetros.\n",
    "\n",
    "Validación:  \n",
    "Después de cada época de entrenamiento, el modelo se evalúa con val.  \n",
    "Al final del entrenamiento se restauran los mejores pesos y se vuelve a evaluar.\n",
    "\n",
    "Test:  \n",
    "Hay que hacerlo por separado con .val o .eval\n"
   ]
  },
  {
   "cell_type": "code",
   "execution_count": null,
   "metadata": {},
   "outputs": [],
   "source": [
    "results = model_n.train(data='../data/data.yaml', \n",
    "                        epochs=50, \n",
    "                        imgsz=256, \n",
    "                        batch_size=16,\n",
    "                        name='yolov8n_exp3_dataAug',\n",
    "                        exist_ok=True)          "
   ]
  }
 ],
 "metadata": {
  "kernelspec": {
   "display_name": "tf_wsl",
   "language": "python",
   "name": "python3"
  },
  "language_info": {
   "codemirror_mode": {
    "name": "ipython",
    "version": 3
   },
   "file_extension": ".py",
   "mimetype": "text/x-python",
   "name": "python",
   "nbconvert_exporter": "python",
   "pygments_lexer": "ipython3",
   "version": "3.9.20"
  }
 },
 "nbformat": 4,
 "nbformat_minor": 2
}
